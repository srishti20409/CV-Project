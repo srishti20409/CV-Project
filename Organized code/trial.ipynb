{
 "cells": [
  {
   "cell_type": "code",
   "execution_count": 19,
   "metadata": {},
   "outputs": [
    {
     "name": "stdout",
     "output_type": "stream",
     "text": [
      "[4.841191e+03 0.000000e+00 1.441607e+03 0.000000e+00 4.841191e+03\n",
      " 9.693110e+02 0.000000e+00 0.000000e+00 1.000000e+00]\n",
      "['4841.191' '0' '1598.24' '0' '4841.191' '969.311' '0' '0' '1']\n"
     ]
    }
   ],
   "source": [
    "import os\n",
    "import numpy as np\n",
    "\n",
    "calibration_file = os.path.join(\"data\", \"middlebury_2014\" , \"1\", \"calib.txt\")\n",
    "# read txt flie\n",
    "calibration_file = open(calibration_file, \"r\")\n",
    "calibration_file = calibration_file.readlines()\n",
    "calibration_file = [x.strip() for x in calibration_file]\n",
    "# first line is intriisc parameters\n",
    "# K1 is between [ and ]\n",
    "K1 = calibration_file[0].split(\"[\")[1].split(\"]\")[0]\n",
    "K2 = calibration_file[1].split(\"[\")[1].split(\"]\")[0]\n",
    "doffs = float(calibration_file[2].split(\"=\")[1])\n",
    "baseline = float(calibration_file[3].split(\"=\")[1])\n",
    "K1 = K1.split(\" \")\n",
    "K1 = [x.split(\";\") for x in K1]\n",
    "K1 = [item for sublist in K1 for item in sublist]\n",
    "K1 = [x for x in K1 if x]\n",
    "K1 = np.array(K1)\n",
    "K2 = K2.split(\" \")\n",
    "K2 = [x.split(\";\") for x in K2]\n",
    "K2 = [item for sublist in K2 for item in sublist]\n",
    "K2 = [x for x in K2 if x]\n",
    "K2 = np.array(K2)\n",
    "K1 = K1.astype(np.float64)\n",
    "K2 = K2.astype(np.float64)\n",
    "print(K1)\n",
    "print(K2)\n"
   ]
  }
 ],
 "metadata": {
  "kernelspec": {
   "display_name": "base",
   "language": "python",
   "name": "python3"
  },
  "language_info": {
   "codemirror_mode": {
    "name": "ipython",
    "version": 3
   },
   "file_extension": ".py",
   "mimetype": "text/x-python",
   "name": "python",
   "nbconvert_exporter": "python",
   "pygments_lexer": "ipython3",
   "version": "3.10.9"
  },
  "orig_nbformat": 4
 },
 "nbformat": 4,
 "nbformat_minor": 2
}
